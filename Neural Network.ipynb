{
 "cells": [
  {
   "cell_type": "markdown",
   "metadata": {},
   "source": [
    "These are all libraries we need to construct a neural network."
   ]
  },
  {
   "cell_type": "code",
   "execution_count": 66,
   "metadata": {},
   "outputs": [],
   "source": [
    "import numpy as np"
   ]
  },
  {
   "cell_type": "code",
   "execution_count": 65,
   "metadata": {},
   "outputs": [],
   "source": [
    "# Auxiliars\n",
    "## Visualisation\n",
    "import pandas as pd\n",
    "from tqdm import trange\n",
    "import seaborn as sns\n",
    "import matplotlib.pyplot as plt\n",
    "\n",
    "## Manage Files\n",
    "import os"
   ]
  },
  {
   "cell_type": "markdown",
   "metadata": {},
   "source": [
    "## HyperParameters"
   ]
  },
  {
   "cell_type": "code",
   "execution_count": 187,
   "metadata": {},
   "outputs": [],
   "source": [
    "ds_volume = 1.00                        # percentage of data used as dataset\n",
    "threshold = 0.50                        # percentage of dataset used in training (vs. test)\n",
    "\n",
    "dimensions = [400, 14, 10]              # size of each layer\n",
    "alpha = 2.0                             # learning rate\n",
    "lambda_t = 1.2e-2                       # L2 regularization parameter\n",
    "\n",
    "steps = 200                             # number of iterations until stop"
   ]
  },
  {
   "cell_type": "code",
   "execution_count": 188,
   "metadata": {},
   "outputs": [],
   "source": [
    "def to_multiclass(y, shape):\n",
    "    ''' Convert an array of labels e.g. [1, 2, 9, 0, 6] in a table\n",
    "        in which each row is an item from the list and each column\n",
    "        is a digit (0-9). That table has value 1 for each row in\n",
    "        the corresponing digit and 0 elsewhere.\n",
    "    '''\n",
    "    Y = np.zeros(shape)\n",
    "    for i in range(y.shape[0]):\n",
    "        Y[i, y[i]-1] = 1\n",
    "    return Y"
   ]
  },
  {
   "cell_type": "code",
   "execution_count": 189,
   "metadata": {
    "scrolled": true
   },
   "outputs": [],
   "source": [
    "# Load data from .csv\n",
    "all_x = np.genfromtxt('dataset/numbers.csv', delimiter=',')\n",
    "all_y = np.genfromtxt('dataset/labels.csv', delimiter=',', dtype=np.int)\n",
    "\n",
    "# Normalization 0-1\n",
    "all_x = all_x.T\n",
    "all_x = (all_x-all_x.min(0)) / all_x.ptp(0)\n",
    "all_x = all_x.T\n",
    "\n",
    "size = np.ceil(all_x.shape[0] * ds_volume)\n",
    "indexes = np.random.choice(all_x.shape[0], size=size.astype(np.int), replace=False).astype(np.int)\n",
    "thres = np.ceil(size * threshold).astype(np.int)\n",
    "\n",
    "# Separate Training Set From Validation Set\n",
    "ts = indexes[:thres]\n",
    "vd = indexes[thres:]\n",
    "\n",
    "# Dataset creation\n",
    "dataset_i = all_x[ts]\n",
    "dataset_o = all_y[ts]\n",
    "dataset_o = to_multiclass(dataset_o, (dataset_o.shape[0], 10))"
   ]
  },
  {
   "cell_type": "markdown",
   "metadata": {},
   "source": [
    "## Examples visualisation"
   ]
  },
  {
   "cell_type": "code",
   "execution_count": 190,
   "metadata": {},
   "outputs": [
    {
     "data": {
      "image/png": "[encoded data removed]",
      "text/plain": [
       "<Figure size 1440x288 with 10 Axes>"
      ]
     },
     "metadata": {
      "needs_background": "light"
     },
     "output_type": "display_data"
    }
   ],
   "source": [
    "n_examples = 10\n",
    "examples = np.random.choice(ts, n_examples)\n",
    "\n",
    "plt.subplots(1, n_examples, figsize=(20, 4))\n",
    "for i, example in enumerate(examples):\n",
    "    plt.subplot(1, n_examples, i+1)\n",
    "    plt.imshow(all_x[example].reshape(20, 20).T, cmap=\"gray\")\n",
    "    plt.title(\"Classified as {}\".format(all_y[example] % 10))\n",
    "    plt.axis('off')"
   ]
  },
  {
   "cell_type": "markdown",
   "metadata": {},
   "source": [
    "## Initialization"
   ]
  },
  {
   "cell_type": "code",
   "execution_count": 191,
   "metadata": {},
   "outputs": [],
   "source": [
    "theta = [[]]*(len(dimensions)-1)                     # Tensor of weights\n",
    "\n",
    "for l in range(len(theta)):                          # Initialisation of weights: N(0, 1)\n",
    "    theta[l] = np.random.normal(size=(dimensions[l]+1, dimensions[l+1]))  "
   ]
  },
  {
   "cell_type": "markdown",
   "metadata": {},
   "source": [
    "# Functions for training"
   ]
  },
  {
   "cell_type": "code",
   "execution_count": 192,
   "metadata": {},
   "outputs": [],
   "source": [
    "def front_propagation(X, theta):\n",
    "    s = np.concatenate((np.ones((X.shape[0], 1)), X), axis=1)\n",
    "    a = [s]\n",
    "    for theta_l in theta:\n",
    "        s = sigmoid(s.dot(theta_l))\n",
    "        s = np.concatenate((np.ones((s.shape[0], 1)), s), axis=1)\n",
    "        a.append(s)\n",
    "    a[-1] = np.delete(a[-1], 0, 1)\n",
    "    return a"
   ]
  },
  {
   "cell_type": "code",
   "execution_count": 193,
   "metadata": {},
   "outputs": [],
   "source": [
    "sigmoid = np.vectorize(lambda z: 1 / (1 + np.exp(-z)))"
   ]
  },
  {
   "cell_type": "code",
   "execution_count": 194,
   "metadata": {},
   "outputs": [],
   "source": [
    "def cost(a, y, theta, lambda_t):\n",
    "    m = y.shape[0]\n",
    "    y = (y - 0.5)* 2\n",
    "    y = y * a[-1]\n",
    "    dcost = np.vectorize(lambda h: np.log(h) if h > 0 else np.log(1 + h))\n",
    "    y = dcost(y)\n",
    "    cost = -np.sum(y)\n",
    "    for theta_l in theta:\n",
    "        cost += lambda_t / 2 * np.sum(list(map(lambda x: x ** 2, theta_l)))\n",
    "    return cost/m"
   ]
  },
  {
   "cell_type": "code",
   "execution_count": 195,
   "metadata": {},
   "outputs": [],
   "source": [
    "def grad(a, y, theta, lambda_t):\n",
    "    m = y.shape[0]\n",
    "    d = [[]]*(len(theta))\n",
    "    d[-1] = a[-1] - y\n",
    "    for l in range(len(theta)-1, 0, -1):\n",
    "        s = d[l]\n",
    "        if l != len(theta)-1:\n",
    "            s = np.delete(d[l], 0, 1)\n",
    "        d[l-1] = s.dot(theta[l].T) * a[l] * (np.ones(a[l].shape) - a[l])\n",
    "    D = [[]]*len(theta)\n",
    "    D[-1] = np.sum(d[-1], axis=0)/m\n",
    "    for l in range(len(d)-1, -1, -1):\n",
    "        s = d[l]\n",
    "        if l != len(d)-1:\n",
    "            s = np.delete(s, 0, 1)\n",
    "        D[l] = a[l].T.dot(s)/m\n",
    "        zeros = np.zeros((1, theta[l].shape[1]))\n",
    "        thets = np.delete(theta[l], 0, 0)\n",
    "        D[l] += lambda_t * np.concatenate((zeros, thets), axis=0)\n",
    "    return D"
   ]
  },
  {
   "cell_type": "code",
   "execution_count": 196,
   "metadata": {},
   "outputs": [],
   "source": [
    "def numerical_grad(a, y, theta, lambda_t):\n",
    "    e = 1e-4\n",
    "    it = 0\n",
    "    for l, theta_l in enumerate(theta):\n",
    "        for i, row in enumerate(theta_l):\n",
    "            for j, col in enumerate(row):\n",
    "                theta[l][i][j] += e\n",
    "                a[0] = np.delete(a[0], 0, 1)\n",
    "                a = front_propagation(a[0], theta)\n",
    "                cost_p = cost(a, y, theta, lambda_t)\n",
    "                theta[l][i][j] -= 2 * e\n",
    "                a[0] = np.delete(a[0], 0, 1)\n",
    "                a = front_propagation(a[0], theta)\n",
    "                cost_m = cost(a, y, theta, lambda_t)\n",
    "                theta[l][i][j] += e\n",
    "                grad = (cost_p - cost_m) / 2 / e\n",
    "                yield (it, l, i, j, grad)\n",
    "                it += 1"
   ]
  },
  {
   "cell_type": "code",
   "execution_count": 197,
   "metadata": {},
   "outputs": [],
   "source": [
    "def shape(v, text):\n",
    "    print(\"{}: \".format(text), end=' ')\n",
    "    for i in v:\n",
    "        print(i.shape, end=' ')\n",
    "    print()"
   ]
  },
  {
   "cell_type": "markdown",
   "metadata": {},
   "source": [
    "# Training"
   ]
  },
  {
   "cell_type": "code",
   "execution_count": 198,
   "metadata": {},
   "outputs": [
    {
     "name": "stderr",
     "output_type": "stream",
     "text": [
      "100%|██████████| 200/200 [01:16<00:00,  2.63it/s]\n"
     ]
    }
   ],
   "source": [
    "# training\n",
    "costs = pd.Series(index=[0])\n",
    "for i in trange(steps):\n",
    "    a = front_propagation(dataset_i, theta)\n",
    "    costs[i] = cost(a, dataset_o, theta, lambda_t)\n",
    "    g1 = grad(a, dataset_o, theta, lambda_t)\n",
    "    for l in range(len(theta)):\n",
    "        theta[l] -= g1[l] * alpha\n",
    "\n",
    "if False: # DEBUG\n",
    "    for it, l, i, j, num_grad in numerical_grad(a, dataset_o, theta, lambda_t):\n",
    "        print(\"#[{:02d}][{:02d}][{:02d}] {:11.8f} =>{:11.8f} ({:}%)\".format(l, i, j, \n",
    "                g1[l][i][j], num_grad, (g1[l][i][j] - num_grad)/num_grad*100))\n",
    "        if it > 20:\n",
    "            break"
   ]
  },
  {
   "cell_type": "code",
   "execution_count": 199,
   "metadata": {},
   "outputs": [
    {
     "data": {
      "image/png": "[encoded data removed]",
      "text/plain": [
       "<Figure size 1440x360 with 1 Axes>"
      ]
     },
     "metadata": {
      "needs_background": "light"
     },
     "output_type": "display_data"
    }
   ],
   "source": [
    "plt.figure(figsize=(20, 5))\n",
    "plt.plot(costs)\n",
    "plt.title('Model Progress')\n",
    "plt.ylabel('Loss (MSE)')\n",
    "plt.xlabel('# Epochs')\n",
    "plt.show();"
   ]
  },
  {
   "cell_type": "markdown",
   "metadata": {},
   "source": [
    "## Validation"
   ]
  },
  {
   "cell_type": "code",
   "execution_count": 200,
   "metadata": {},
   "outputs": [],
   "source": [
    "hyperp_filename = 'hyperparameters.csv'\n",
    "if os.path.exists(hyperp_filename):\n",
    "    hyperp = pd.read_csv(hyperp_filename)\n",
    "else:\n",
    "    hyperp = pd.DataFrame(index=[], columns=[\"ds_volume\", \"threshold\", \"layers\", \"nodes_per_layer\", \"alpha\", \"lambda_t\", \"steps\", \"accuracy\", \"cost_ts\", \"cost_vd\"])"
   ]
  },
  {
   "cell_type": "code",
   "execution_count": 201,
   "metadata": {},
   "outputs": [
    {
     "name": "stdout",
     "output_type": "stream",
     "text": [
      "Accuracy: 81.96%\n",
      "Cost dataset   : 1.52\n",
      "Cost validation: 4.48\n"
     ]
    },
    {
     "data": {
      "text/html": [
       "<div>\n",
       "<style scoped>\n",
       "    .dataframe tbody tr th:only-of-type {\n",
       "        vertical-align: middle;\n",
       "    }\n",
       "\n",
       "    .dataframe tbody tr th {\n",
       "        vertical-align: top;\n",
       "    }\n",
       "\n",
       "    .dataframe thead th {\n",
       "        text-align: right;\n",
       "    }\n",
       "</style>\n",
       "<table border=\"1\" class=\"dataframe\">\n",
       "  <thead>\n",
       "    <tr style=\"text-align: right;\">\n",
       "      <th></th>\n",
       "      <th>0</th>\n",
       "      <th>1</th>\n",
       "      <th>2</th>\n",
       "      <th>3</th>\n",
       "      <th>4</th>\n",
       "      <th>5</th>\n",
       "      <th>6</th>\n",
       "      <th>7</th>\n",
       "      <th>8</th>\n",
       "      <th>9</th>\n",
       "      <th>10</th>\n",
       "    </tr>\n",
       "  </thead>\n",
       "  <tbody>\n",
       "    <tr>\n",
       "      <td>0</td>\n",
       "      <td>0.0</td>\n",
       "      <td>0.0</td>\n",
       "      <td>0.0</td>\n",
       "      <td>0.0</td>\n",
       "      <td>0.0</td>\n",
       "      <td>0.0</td>\n",
       "      <td>0.0</td>\n",
       "      <td>0.0</td>\n",
       "      <td>0.0</td>\n",
       "      <td>0.0</td>\n",
       "      <td>0.0</td>\n",
       "    </tr>\n",
       "    <tr>\n",
       "      <td>1</td>\n",
       "      <td>0.0</td>\n",
       "      <td>243.0</td>\n",
       "      <td>0.0</td>\n",
       "      <td>2.0</td>\n",
       "      <td>0.0</td>\n",
       "      <td>1.0</td>\n",
       "      <td>1.0</td>\n",
       "      <td>2.0</td>\n",
       "      <td>0.0</td>\n",
       "      <td>0.0</td>\n",
       "      <td>0.0</td>\n",
       "    </tr>\n",
       "    <tr>\n",
       "      <td>2</td>\n",
       "      <td>0.0</td>\n",
       "      <td>8.0</td>\n",
       "      <td>230.0</td>\n",
       "      <td>3.0</td>\n",
       "      <td>5.0</td>\n",
       "      <td>0.0</td>\n",
       "      <td>4.0</td>\n",
       "      <td>5.0</td>\n",
       "      <td>1.0</td>\n",
       "      <td>0.0</td>\n",
       "      <td>6.0</td>\n",
       "    </tr>\n",
       "    <tr>\n",
       "      <td>3</td>\n",
       "      <td>0.0</td>\n",
       "      <td>5.0</td>\n",
       "      <td>14.0</td>\n",
       "      <td>226.0</td>\n",
       "      <td>0.0</td>\n",
       "      <td>5.0</td>\n",
       "      <td>1.0</td>\n",
       "      <td>5.0</td>\n",
       "      <td>0.0</td>\n",
       "      <td>0.0</td>\n",
       "      <td>3.0</td>\n",
       "    </tr>\n",
       "    <tr>\n",
       "      <td>4</td>\n",
       "      <td>0.0</td>\n",
       "      <td>5.0</td>\n",
       "      <td>6.0</td>\n",
       "      <td>0.0</td>\n",
       "      <td>220.0</td>\n",
       "      <td>2.0</td>\n",
       "      <td>8.0</td>\n",
       "      <td>3.0</td>\n",
       "      <td>0.0</td>\n",
       "      <td>5.0</td>\n",
       "      <td>2.0</td>\n",
       "    </tr>\n",
       "    <tr>\n",
       "      <td>5</td>\n",
       "      <td>0.0</td>\n",
       "      <td>6.0</td>\n",
       "      <td>2.0</td>\n",
       "      <td>33.0</td>\n",
       "      <td>3.0</td>\n",
       "      <td>178.0</td>\n",
       "      <td>9.0</td>\n",
       "      <td>0.0</td>\n",
       "      <td>0.0</td>\n",
       "      <td>0.0</td>\n",
       "      <td>25.0</td>\n",
       "    </tr>\n",
       "    <tr>\n",
       "      <td>6</td>\n",
       "      <td>0.0</td>\n",
       "      <td>7.0</td>\n",
       "      <td>3.0</td>\n",
       "      <td>0.0</td>\n",
       "      <td>0.0</td>\n",
       "      <td>4.0</td>\n",
       "      <td>223.0</td>\n",
       "      <td>0.0</td>\n",
       "      <td>0.0</td>\n",
       "      <td>0.0</td>\n",
       "      <td>4.0</td>\n",
       "    </tr>\n",
       "    <tr>\n",
       "      <td>7</td>\n",
       "      <td>0.0</td>\n",
       "      <td>17.0</td>\n",
       "      <td>3.0</td>\n",
       "      <td>0.0</td>\n",
       "      <td>2.0</td>\n",
       "      <td>1.0</td>\n",
       "      <td>0.0</td>\n",
       "      <td>222.0</td>\n",
       "      <td>0.0</td>\n",
       "      <td>0.0</td>\n",
       "      <td>3.0</td>\n",
       "    </tr>\n",
       "    <tr>\n",
       "      <td>8</td>\n",
       "      <td>0.0</td>\n",
       "      <td>21.0</td>\n",
       "      <td>12.0</td>\n",
       "      <td>42.0</td>\n",
       "      <td>0.0</td>\n",
       "      <td>11.0</td>\n",
       "      <td>3.0</td>\n",
       "      <td>1.0</td>\n",
       "      <td>146.0</td>\n",
       "      <td>6.0</td>\n",
       "      <td>4.0</td>\n",
       "    </tr>\n",
       "    <tr>\n",
       "      <td>9</td>\n",
       "      <td>0.0</td>\n",
       "      <td>5.0</td>\n",
       "      <td>0.0</td>\n",
       "      <td>3.0</td>\n",
       "      <td>17.0</td>\n",
       "      <td>4.0</td>\n",
       "      <td>2.0</td>\n",
       "      <td>83.0</td>\n",
       "      <td>1.0</td>\n",
       "      <td>116.0</td>\n",
       "      <td>7.0</td>\n",
       "    </tr>\n",
       "    <tr>\n",
       "      <td>10</td>\n",
       "      <td>0.0</td>\n",
       "      <td>0.0</td>\n",
       "      <td>0.0</td>\n",
       "      <td>1.0</td>\n",
       "      <td>0.0</td>\n",
       "      <td>0.0</td>\n",
       "      <td>3.0</td>\n",
       "      <td>1.0</td>\n",
       "      <td>0.0</td>\n",
       "      <td>0.0</td>\n",
       "      <td>245.0</td>\n",
       "    </tr>\n",
       "  </tbody>\n",
       "</table>\n",
       "</div>"
      ],
      "text/plain": [
       "      0      1      2      3      4      5      6      7      8      9     10\n",
       "0   0.0    0.0    0.0    0.0    0.0    0.0    0.0    0.0    0.0    0.0    0.0\n",
       "1   0.0  243.0    0.0    2.0    0.0    1.0    1.0    2.0    0.0    0.0    0.0\n",
       "2   0.0    8.0  230.0    3.0    5.0    0.0    4.0    5.0    1.0    0.0    6.0\n",
       "3   0.0    5.0   14.0  226.0    0.0    5.0    1.0    5.0    0.0    0.0    3.0\n",
       "4   0.0    5.0    6.0    0.0  220.0    2.0    8.0    3.0    0.0    5.0    2.0\n",
       "5   0.0    6.0    2.0   33.0    3.0  178.0    9.0    0.0    0.0    0.0   25.0\n",
       "6   0.0    7.0    3.0    0.0    0.0    4.0  223.0    0.0    0.0    0.0    4.0\n",
       "7   0.0   17.0    3.0    0.0    2.0    1.0    0.0  222.0    0.0    0.0    3.0\n",
       "8   0.0   21.0   12.0   42.0    0.0   11.0    3.0    1.0  146.0    6.0    4.0\n",
       "9   0.0    5.0    0.0    3.0   17.0    4.0    2.0   83.0    1.0  116.0    7.0\n",
       "10  0.0    0.0    0.0    1.0    0.0    0.0    3.0    1.0    0.0    0.0  245.0"
      ]
     },
     "metadata": {},
     "output_type": "display_data"
    },
    {
     "data": {
      "text/html": [
       "<div>\n",
       "<style scoped>\n",
       "    .dataframe tbody tr th:only-of-type {\n",
       "        vertical-align: middle;\n",
       "    }\n",
       "\n",
       "    .dataframe tbody tr th {\n",
       "        vertical-align: top;\n",
       "    }\n",
       "\n",
       "    .dataframe thead th {\n",
       "        text-align: right;\n",
       "    }\n",
       "</style>\n",
       "<table border=\"1\" class=\"dataframe\">\n",
       "  <thead>\n",
       "    <tr style=\"text-align: right;\">\n",
       "      <th></th>\n",
       "      <th>ds_volume</th>\n",
       "      <th>threshold</th>\n",
       "      <th>layers</th>\n",
       "      <th>nodes_per_layer</th>\n",
       "      <th>alpha</th>\n",
       "      <th>lambda_t</th>\n",
       "      <th>steps</th>\n",
       "      <th>accuracy</th>\n",
       "      <th>cost_ts</th>\n",
       "      <th>cost_vd</th>\n",
       "    </tr>\n",
       "  </thead>\n",
       "  <tbody>\n",
       "    <tr>\n",
       "      <td>5</td>\n",
       "      <td>1.0</td>\n",
       "      <td>0.5</td>\n",
       "      <td>3.0</td>\n",
       "      <td>14.0</td>\n",
       "      <td>1.0</td>\n",
       "      <td>0.100</td>\n",
       "      <td>200.0</td>\n",
       "      <td>9.44</td>\n",
       "      <td>1.516239</td>\n",
       "      <td>3.255590</td>\n",
       "    </tr>\n",
       "    <tr>\n",
       "      <td>2</td>\n",
       "      <td>1.0</td>\n",
       "      <td>0.5</td>\n",
       "      <td>3.0</td>\n",
       "      <td>14.0</td>\n",
       "      <td>0.1</td>\n",
       "      <td>0.010</td>\n",
       "      <td>200.0</td>\n",
       "      <td>37.28</td>\n",
       "      <td>1.516239</td>\n",
       "      <td>3.437609</td>\n",
       "    </tr>\n",
       "    <tr>\n",
       "      <td>3</td>\n",
       "      <td>1.0</td>\n",
       "      <td>0.5</td>\n",
       "      <td>3.0</td>\n",
       "      <td>14.0</td>\n",
       "      <td>1.0</td>\n",
       "      <td>0.010</td>\n",
       "      <td>200.0</td>\n",
       "      <td>83.92</td>\n",
       "      <td>1.516239</td>\n",
       "      <td>3.814707</td>\n",
       "    </tr>\n",
       "    <tr>\n",
       "      <td>0</td>\n",
       "      <td>1.0</td>\n",
       "      <td>0.5</td>\n",
       "      <td>3.0</td>\n",
       "      <td>14.0</td>\n",
       "      <td>2.0</td>\n",
       "      <td>0.010</td>\n",
       "      <td>200.0</td>\n",
       "      <td>84.08</td>\n",
       "      <td>1.516239</td>\n",
       "      <td>4.160384</td>\n",
       "    </tr>\n",
       "    <tr>\n",
       "      <td>6</td>\n",
       "      <td>1.0</td>\n",
       "      <td>0.5</td>\n",
       "      <td>3.0</td>\n",
       "      <td>14.0</td>\n",
       "      <td>2.0</td>\n",
       "      <td>0.012</td>\n",
       "      <td>200.0</td>\n",
       "      <td>81.96</td>\n",
       "      <td>1.516239</td>\n",
       "      <td>4.478654</td>\n",
       "    </tr>\n",
       "    <tr>\n",
       "      <td>1</td>\n",
       "      <td>1.0</td>\n",
       "      <td>0.5</td>\n",
       "      <td>4.0</td>\n",
       "      <td>120.0</td>\n",
       "      <td>2.0</td>\n",
       "      <td>0.010</td>\n",
       "      <td>200.0</td>\n",
       "      <td>67.48</td>\n",
       "      <td>1.516239</td>\n",
       "      <td>4.785977</td>\n",
       "    </tr>\n",
       "    <tr>\n",
       "      <td>4</td>\n",
       "      <td>1.0</td>\n",
       "      <td>0.5</td>\n",
       "      <td>3.0</td>\n",
       "      <td>14.0</td>\n",
       "      <td>1.0</td>\n",
       "      <td>0.001</td>\n",
       "      <td>200.0</td>\n",
       "      <td>78.40</td>\n",
       "      <td>1.516239</td>\n",
       "      <td>6.431485</td>\n",
       "    </tr>\n",
       "  </tbody>\n",
       "</table>\n",
       "</div>"
      ],
      "text/plain": [
       "   ds_volume  threshold  layers  nodes_per_layer  alpha  lambda_t  steps  \\\n",
       "5        1.0        0.5     3.0             14.0    1.0     0.100  200.0   \n",
       "2        1.0        0.5     3.0             14.0    0.1     0.010  200.0   \n",
       "3        1.0        0.5     3.0             14.0    1.0     0.010  200.0   \n",
       "0        1.0        0.5     3.0             14.0    2.0     0.010  200.0   \n",
       "6        1.0        0.5     3.0             14.0    2.0     0.012  200.0   \n",
       "1        1.0        0.5     4.0            120.0    2.0     0.010  200.0   \n",
       "4        1.0        0.5     3.0             14.0    1.0     0.001  200.0   \n",
       "\n",
       "   accuracy   cost_ts   cost_vd  \n",
       "5      9.44  1.516239  3.255590  \n",
       "2     37.28  1.516239  3.437609  \n",
       "3     83.92  1.516239  3.814707  \n",
       "0     84.08  1.516239  4.160384  \n",
       "6     81.96  1.516239  4.478654  \n",
       "1     67.48  1.516239  4.785977  \n",
       "4     78.40  1.516239  6.431485  "
      ]
     },
     "metadata": {},
     "output_type": "display_data"
    }
   ],
   "source": [
    "test_i = all_x[vd]\n",
    "test_o = all_y[vd]\n",
    "test_o = to_multiclass(test_o, (test_o.shape[0], theta[-1].shape[1]))\n",
    "\n",
    "guesses = np.zeros((test_o.shape[1]+1, test_o.shape[1]+1))\n",
    "\n",
    "hipothesis = front_propagation(test_i, theta)[-1]\n",
    "for i in range(hipothesis.shape[0]):\n",
    "    guesses[np.argmax(test_o[i])+1, np.argmax(hipothesis[i])+1] += 1\n",
    "\n",
    "accuracy = guesses.trace()/np.sum(guesses)*100\n",
    "print(\"Accuracy: {:2.2f}%\".format(accuracy))\n",
    "print(\"Cost dataset   : {:.2f}\".format(cost_ts))\n",
    "cost_vd = cost(hipothesis, test_o, theta, lambda_t)\n",
    "print(\"Cost validation: {:.2f}\".format(cost_vd))\n",
    "\n",
    "display(pd.DataFrame(guesses))\n",
    "\n",
    "# saving\n",
    "hyperp = hyperp.append({\n",
    "    'ds_volume':ds_volume,\n",
    "    'threshold':threshold,\n",
    "    'layers': len(dimensions),\n",
    "    'nodes_per_layer': dimensions[1],\n",
    "    'alpha': alpha,\n",
    "    'lambda_t': lambda_t,\n",
    "    'steps': steps,\n",
    "    'accuracy': accuracy,\n",
    "    'cost_ts': cost_ts,\n",
    "    'cost_vd': cost_vd\n",
    "}, ignore_index=True)\n",
    "hyperp.to_csv(hyperp_filename, index=None)\n",
    "display(hyperp.sort_values(by='cost_vd', ascending=True))"
   ]
  },
  {
   "cell_type": "code",
   "execution_count": 202,
   "metadata": {},
   "outputs": [
    {
     "data": {
      "image/png": "[encoded data removed]",
      "text/plain": [
       "<Figure size 1152x576 with 2 Axes>"
      ]
     },
     "metadata": {
      "needs_background": "light"
     },
     "output_type": "display_data"
    }
   ],
   "source": [
    "plt.figure(figsize=(16, 8))\n",
    "sns.heatmap(guesses[1:, 1:])\n",
    "plt.title('Confusion Matrix')\n",
    "plt.show();"
   ]
  },
  {
   "cell_type": "code",
   "execution_count": 203,
   "metadata": {},
   "outputs": [
    {
     "data": {
      "text/html": [
       "<div>\n",
       "<style scoped>\n",
       "    .dataframe tbody tr th:only-of-type {\n",
       "        vertical-align: middle;\n",
       "    }\n",
       "\n",
       "    .dataframe tbody tr th {\n",
       "        vertical-align: top;\n",
       "    }\n",
       "\n",
       "    .dataframe thead th {\n",
       "        text-align: right;\n",
       "    }\n",
       "</style>\n",
       "<table border=\"1\" class=\"dataframe\">\n",
       "  <thead>\n",
       "    <tr style=\"text-align: right;\">\n",
       "      <th></th>\n",
       "      <th>ds_volume</th>\n",
       "      <th>threshold</th>\n",
       "      <th>layers</th>\n",
       "      <th>nodes_per_layer</th>\n",
       "      <th>alpha</th>\n",
       "      <th>lambda_t</th>\n",
       "      <th>steps</th>\n",
       "      <th>accuracy</th>\n",
       "      <th>cost_ts</th>\n",
       "      <th>cost_vd</th>\n",
       "    </tr>\n",
       "  </thead>\n",
       "  <tbody>\n",
       "    <tr>\n",
       "      <td>0</td>\n",
       "      <td>1.0</td>\n",
       "      <td>0.5</td>\n",
       "      <td>3.0</td>\n",
       "      <td>14.0</td>\n",
       "      <td>2.0</td>\n",
       "      <td>0.010</td>\n",
       "      <td>200.0</td>\n",
       "      <td>84.08</td>\n",
       "      <td>1.516239</td>\n",
       "      <td>4.160384</td>\n",
       "    </tr>\n",
       "    <tr>\n",
       "      <td>3</td>\n",
       "      <td>1.0</td>\n",
       "      <td>0.5</td>\n",
       "      <td>3.0</td>\n",
       "      <td>14.0</td>\n",
       "      <td>1.0</td>\n",
       "      <td>0.010</td>\n",
       "      <td>200.0</td>\n",
       "      <td>83.92</td>\n",
       "      <td>1.516239</td>\n",
       "      <td>3.814707</td>\n",
       "    </tr>\n",
       "    <tr>\n",
       "      <td>6</td>\n",
       "      <td>1.0</td>\n",
       "      <td>0.5</td>\n",
       "      <td>3.0</td>\n",
       "      <td>14.0</td>\n",
       "      <td>2.0</td>\n",
       "      <td>0.012</td>\n",
       "      <td>200.0</td>\n",
       "      <td>81.96</td>\n",
       "      <td>1.516239</td>\n",
       "      <td>4.478654</td>\n",
       "    </tr>\n",
       "    <tr>\n",
       "      <td>4</td>\n",
       "      <td>1.0</td>\n",
       "      <td>0.5</td>\n",
       "      <td>3.0</td>\n",
       "      <td>14.0</td>\n",
       "      <td>1.0</td>\n",
       "      <td>0.001</td>\n",
       "      <td>200.0</td>\n",
       "      <td>78.40</td>\n",
       "      <td>1.516239</td>\n",
       "      <td>6.431485</td>\n",
       "    </tr>\n",
       "    <tr>\n",
       "      <td>1</td>\n",
       "      <td>1.0</td>\n",
       "      <td>0.5</td>\n",
       "      <td>4.0</td>\n",
       "      <td>120.0</td>\n",
       "      <td>2.0</td>\n",
       "      <td>0.010</td>\n",
       "      <td>200.0</td>\n",
       "      <td>67.48</td>\n",
       "      <td>1.516239</td>\n",
       "      <td>4.785977</td>\n",
       "    </tr>\n",
       "  </tbody>\n",
       "</table>\n",
       "</div>"
      ],
      "text/plain": [
       "   ds_volume  threshold  layers  nodes_per_layer  alpha  lambda_t  steps  \\\n",
       "0        1.0        0.5     3.0             14.0    2.0     0.010  200.0   \n",
       "3        1.0        0.5     3.0             14.0    1.0     0.010  200.0   \n",
       "6        1.0        0.5     3.0             14.0    2.0     0.012  200.0   \n",
       "4        1.0        0.5     3.0             14.0    1.0     0.001  200.0   \n",
       "1        1.0        0.5     4.0            120.0    2.0     0.010  200.0   \n",
       "\n",
       "   accuracy   cost_ts   cost_vd  \n",
       "0     84.08  1.516239  4.160384  \n",
       "3     83.92  1.516239  3.814707  \n",
       "6     81.96  1.516239  4.478654  \n",
       "4     78.40  1.516239  6.431485  \n",
       "1     67.48  1.516239  4.785977  "
      ]
     },
     "execution_count": 203,
     "metadata": {},
     "output_type": "execute_result"
    }
   ],
   "source": [
    "hyperp.sort_values(by='accuracy', ascending=False).head()"
   ]
  },
  {
   "cell_type": "code",
   "execution_count": 204,
   "metadata": {},
   "outputs": [
    {
     "data": {
      "image/png": "[encoded data removed]",
      "text/plain": [
       "<Figure size 1440x360 with 1 Axes>"
      ]
     },
     "metadata": {
      "needs_background": "light"
     },
     "output_type": "display_data"
    }
   ],
   "source": [
    "plt.figure(figsize=(20, 5))\n",
    "plt.scatter(hyperp['cost_vd'], hyperp['accuracy'])\n",
    "plt.title('Hyperparameters results')\n",
    "plt.xlabel('Loss in validation set')\n",
    "plt.ylabel('Accuracy')\n",
    "plt.show();"
   ]
  },
  {
   "cell_type": "markdown",
   "metadata": {},
   "source": [
    "## Experiment #1 - What regions does the neural network looks for?\n",
    "\n",
    "If we set a defined value output as answer and run the neural network backwards, we will produce an image. This image represents the regions in which the neural network \"directs\" its weights to decide the defined output, i.e., the most important regions for each digit."
   ]
  },
  {
   "cell_type": "code",
   "execution_count": 205,
   "metadata": {},
   "outputs": [],
   "source": [
    "# Set a digit value here\n",
    "digit = 3"
   ]
  },
  {
   "cell_type": "code",
   "execution_count": 206,
   "metadata": {},
   "outputs": [
    {
     "data": {
      "image/png": "[encoded data removed]",
      "text/plain": [
       "<Figure size 1440x360 with 4 Axes>"
      ]
     },
     "metadata": {
      "needs_background": "light"
     },
     "output_type": "display_data"
    }
   ],
   "source": [
    "out_tensor = [0, 0, 0, 0, 0, 0, 0, 0, 0, 0]\n",
    "out_tensor[digit - 1] = 1 \n",
    "k = []\n",
    "k.append(np.dot(out_tensor, theta[1].T))\n",
    "k[0] = k[0][1:]\n",
    "k.append(np.dot(k[0], theta[0].T))\n",
    "k[1] = k[1][1:]\n",
    "\n",
    "plt.subplots(1, 2, figsize=(20, 5))\n",
    "plt.subplot(1, 2, 1)\n",
    "sns.heatmap(k[1].reshape(20, 20).T, center=0)\n",
    "plt.title(\"Important regions for digit '{}'\".format(digit))\n",
    "plt.axis('off')\n",
    "plt.subplot(1, 2, 2)\n",
    "sns.heatmap(k[1].reshape(20, 20).T, cmap='gray')\n",
    "plt.title(\"Important regions for digit '{}'\".format(digit))\n",
    "plt.axis('off')\n",
    "plt.show();"
   ]
  },
  {
   "cell_type": "code",
   "execution_count": null,
   "metadata": {},
   "outputs": [],
   "source": [
    "."
   ]
  }
 ],
 "metadata": {
  "kernelspec": {
   "display_name": "Python 3",
   "language": "python",
   "name": "python3"
  },
  "language_info": {
   "codemirror_mode": {
    "name": "ipython",
    "version": 3
   },
   "file_extension": ".py",
   "mimetype": "text/x-python",
   "name": "python",
   "nbconvert_exporter": "python",
   "pygments_lexer": "ipython3",
   "version": "3.7.0"
  }
 },
 "nbformat": 4,
 "nbformat_minor": 2
}
