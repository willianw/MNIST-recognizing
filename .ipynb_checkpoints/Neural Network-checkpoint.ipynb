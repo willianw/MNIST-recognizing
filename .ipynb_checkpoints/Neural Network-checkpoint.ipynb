{
 "cells": [
  {
   "cell_type": "code",
   "execution_count": 1,
   "metadata": {},
   "outputs": [],
   "source": [
    "import numpy as np\n",
    "import pandas as pd\n",
    "from tqdm import trange\n",
    "import matplotlib.pyplot as plt"
   ]
  },
  {
   "cell_type": "markdown",
   "metadata": {},
   "source": [
    "## HyperParameters"
   ]
  },
  {
   "cell_type": "code",
   "execution_count": 2,
   "metadata": {},
   "outputs": [],
   "source": [
    "ds_volume = 0.96                        # percentage of data used as dataset\n",
    "threshold = 0.50                        # percentage of dataset used in training (vs. test)\n",
    "\n",
    "dimensions = [400, 14, 10]          # size of each layer\n",
    "alpha = 2.0\n",
    "lambda_t = 1.0e-2\n",
    "\n",
    "steps = 200"
   ]
  },
  {
   "cell_type": "code",
   "execution_count": 3,
   "metadata": {},
   "outputs": [],
   "source": [
    "def to_multiclass(y, shape):\n",
    "    Y = np.zeros(shape)\n",
    "    for i in range(y.shape[0]):\n",
    "        Y[i, y[i]-1] = 1\n",
    "    return Y"
   ]
  },
  {
   "cell_type": "code",
   "execution_count": 105,
   "metadata": {
    "scrolled": true
   },
   "outputs": [],
   "source": [
    "all_x = np.genfromtxt('dataset/numbers.csv', delimiter=',')\n",
    "all_y = np.genfromtxt('dataset/labels.csv', delimiter=',', dtype=np.int)\n",
    "\n",
    "# Normalization 0-1\n",
    "all_x = all_x.T\n",
    "all_x = (all_x-all_x.min(0)) / all_x.ptp(0)\n",
    "all_x = all_x.T\n",
    "\n",
    "size = np.ceil(all_x.shape[0] * ds_volume)\n",
    "indexes = np.random.choice(all_x.shape[0], size=size.astype(np.int), replace=False).astype(np.int)\n",
    "thres = np.ceil(size * threshold).astype(np.int)\n",
    "\n",
    "# Separate Training Set From Validation Set\n",
    "ts = indexes[:thres]\n",
    "vd = indexes[thres:]\n",
    "\n",
    "# Dataset creation\n",
    "dataset_i = all_x[ts]\n",
    "dataset_o = all_y[ts]\n",
    "dataset_o = to_multiclass(dataset_o, (dataset_o.shape[0], 10))\n"
   ]
  },
  {
   "cell_type": "code",
   "execution_count": 106,
   "metadata": {},
   "outputs": [
    {
     "name": "stdout",
     "output_type": "stream",
     "text": [
      "Classified as 3\n"
     ]
    },
    {
     "data": {
      "image/png": "[encoded data removed]",
      "text/plain": [
       "<matplotlib.figure.Figure at 0x7f340464c650>"
      ]
     },
     "metadata": {},
     "output_type": "display_data"
    }
   ],
   "source": [
    "example = np.random.randint(0, ts.shape[0])\n",
    "\n",
    "plt.imshow(dataset_i[example].reshape(20, 20).T, cmap=\"gray\")\n",
    "print \"Classified as {}\".format(np.argmax(dataset_o[example])+1)"
   ]
  },
  {
   "cell_type": "markdown",
   "metadata": {},
   "source": [
    "## Initialization"
   ]
  },
  {
   "cell_type": "code",
   "execution_count": 107,
   "metadata": {},
   "outputs": [
    {
     "name": "stderr",
     "output_type": "stream",
     "text": [
      "100%|██████████| 200/200 [00:48<00:00,  4.09it/s]\n"
     ]
    }
   ],
   "source": [
    "theta = [[]]*(len(dimensions)-1)\n",
    "\n",
    "for l in range(len(theta)):\n",
    "    theta[l] = np.random.normal(size=(dimensions[l]+1, dimensions[l+1]))\n",
    "                \n",
    "\n",
    "# training\n",
    "costs = pd.Series(index=[0])\n",
    "for i in trange(steps):\n",
    "    a = front_propagation(dataset_i, theta)\n",
    "    costs[i] = cost(a, dataset_o, theta, lambda_t)\n",
    "    g1 = grad(a, dataset_o, theta, lambda_t)\n",
    "    for l in range(len(theta)):\n",
    "        theta[l] -= g1[l] * alpha\n",
    "\n",
    "if False: # DEBUG\n",
    "    for it, l, i, j, num_grad in numerical_grad(a, dataset_o, theta, lambda_t):\n",
    "        print \"#[{:02d}][{:02d}][{:02d}] {:11.8f} =>{:11.8f} ({:}%)\".format(l, i, j, \n",
    "                g1[l][i][j], num_grad, (g1[l][i][j] - num_grad)/num_grad*100)\n",
    "        if it > 20:\n",
    "            break"
   ]
  },
  {
   "cell_type": "code",
   "execution_count": 108,
   "metadata": {},
   "outputs": [
    {
     "name": "stdout",
     "output_type": "stream",
     "text": [
      "Final Cost: 1.44\n"
     ]
    },
    {
     "data": {
      "image/png": "[encoded data removed]",
      "text/plain": [
       "<matplotlib.figure.Figure at 0x7f340475a590>"
      ]
     },
     "metadata": {},
     "output_type": "display_data"
    }
   ],
   "source": [
    "costs.plot()\n",
    "cost_ts = costs.iloc[-1]\n",
    "print \"Final Cost: {:.2f}\".format(cost_ts)"
   ]
  },
  {
   "cell_type": "code",
   "execution_count": 12,
   "metadata": {},
   "outputs": [],
   "source": [
    "def front_propagation(X, theta):\n",
    "    s = np.concatenate((np.ones((X.shape[0], 1)), X), axis=1)\n",
    "    a = [s]\n",
    "    for theta_l in theta:\n",
    "        s = sigmoid(s.dot(theta_l))\n",
    "        s = np.concatenate((np.ones((s.shape[0], 1)), s), axis=1)\n",
    "        a.append(s)\n",
    "    #a[ 0] = np.delete(a[ 0], 0, 1)\n",
    "    a[-1] = np.delete(a[-1], 0, 1)\n",
    "    return a"
   ]
  },
  {
   "cell_type": "code",
   "execution_count": 13,
   "metadata": {},
   "outputs": [],
   "source": [
    "sigmoid = np.vectorize(lambda z: 1 / (1 + np.exp(-z)))"
   ]
  },
  {
   "cell_type": "code",
   "execution_count": 14,
   "metadata": {},
   "outputs": [],
   "source": [
    "def cost(a, y, theta, lambda_t):\n",
    "    m = y.shape[0]\n",
    "    y = (y - 0.5)* 2\n",
    "    y = y * a[-1]\n",
    "    dcost = np.vectorize(lambda h: np.log(h) if h > 0 else np.log(1 + h))\n",
    "    y = dcost(y)\n",
    "    cost = -np.sum(y)\n",
    "    for theta_l in theta:\n",
    "        cost += lambda_t / 2 * np.sum(map(lambda x: x ** 2, theta_l))\n",
    "    return cost/m"
   ]
  },
  {
   "cell_type": "code",
   "execution_count": 8,
   "metadata": {},
   "outputs": [],
   "source": [
    "def grad(a, y, theta, lambda_t):\n",
    "    m = y.shape[0]\n",
    "    d = [[]]*(len(theta))\n",
    "    d[-1] = a[-1] - y\n",
    "    for l in range(len(theta)-1, 0, -1):\n",
    "        s = d[l]\n",
    "        if l != len(theta)-1:\n",
    "            s = np.delete(d[l], 0, 1)\n",
    "        d[l-1] = s.dot(theta[l].T) * a[l] * (np.ones(a[l].shape) - a[l])\n",
    "    D = [[]]*len(theta)\n",
    "    D[-1] = np.sum(d[-1], axis=0)/m\n",
    "    for l in range(len(d)-1, -1, -1):\n",
    "        s = d[l]\n",
    "        if l != len(d)-1:\n",
    "            s = np.delete(s, 0, 1)\n",
    "        D[l] = a[l].T.dot(s)/m\n",
    "        zeros = np.zeros((1, theta[l].shape[1]))\n",
    "        thets = np.delete(theta[l], 0, 0)\n",
    "        D[l] += lambda_t * np.concatenate((zeros, thets), axis=0)\n",
    "    return D"
   ]
  },
  {
   "cell_type": "code",
   "execution_count": 9,
   "metadata": {},
   "outputs": [],
   "source": [
    "def numerical_grad(a, y, theta, lambda_t):\n",
    "    e = 1e-4\n",
    "    it = 0\n",
    "    for l, theta_l in enumerate(theta):\n",
    "        for i, row in enumerate(theta_l):\n",
    "            for j, col in enumerate(row):\n",
    "                theta[l][i][j] += e\n",
    "                a[0] = np.delete(a[0], 0, 1)\n",
    "                a = front_propagation(a[0], theta)\n",
    "                cost_p = cost(a, y, theta, lambda_t)\n",
    "                theta[l][i][j] -= 2 * e\n",
    "                a[0] = np.delete(a[0], 0, 1)\n",
    "                a = front_propagation(a[0], theta)\n",
    "                cost_m = cost(a, y, theta, lambda_t)\n",
    "                theta[l][i][j] += e\n",
    "                grad = (cost_p - cost_m) / 2 / e\n",
    "                yield (it, l, i, j, grad)\n",
    "                it += 1"
   ]
  },
  {
   "cell_type": "code",
   "execution_count": 10,
   "metadata": {},
   "outputs": [],
   "source": [
    "def shape(v, text):\n",
    "    print \"{}: \".format(text),\n",
    "    for i in v:\n",
    "        print i.shape,\n",
    "    print \"\""
   ]
  },
  {
   "cell_type": "markdown",
   "metadata": {},
   "source": [
    "## Validation"
   ]
  },
  {
   "cell_type": "code",
   "execution_count": 11,
   "metadata": {},
   "outputs": [],
   "source": [
    "hyperp = pd.DataFrame(index=[], columns=[\"ds_volume\", \"threshold\", \"layers\", \"nodes_per_layer\", \"alpha\", \"lambda_t\", \"steps\", \"accuracy\", \"cost_ts\", \"cost_vd\"])"
   ]
  },
  {
   "cell_type": "code",
   "execution_count": 109,
   "metadata": {},
   "outputs": [
    {
     "name": "stdout",
     "output_type": "stream",
     "text": [
      "Accuracy: 85.29%\n",
      "Cost dataset   : 1.44\n",
      "Cost validation: 3.99\n"
     ]
    },
    {
     "data": {
      "text/html": [
       "<div>\n",
       "<style scoped>\n",
       "    .dataframe tbody tr th:only-of-type {\n",
       "        vertical-align: middle;\n",
       "    }\n",
       "\n",
       "    .dataframe tbody tr th {\n",
       "        vertical-align: top;\n",
       "    }\n",
       "\n",
       "    .dataframe thead th {\n",
       "        text-align: right;\n",
       "    }\n",
       "</style>\n",
       "<table border=\"1\" class=\"dataframe\">\n",
       "  <thead>\n",
       "    <tr style=\"text-align: right;\">\n",
       "      <th></th>\n",
       "      <th>0</th>\n",
       "      <th>1</th>\n",
       "      <th>2</th>\n",
       "      <th>3</th>\n",
       "      <th>4</th>\n",
       "      <th>5</th>\n",
       "      <th>6</th>\n",
       "      <th>7</th>\n",
       "      <th>8</th>\n",
       "      <th>9</th>\n",
       "      <th>10</th>\n",
       "    </tr>\n",
       "  </thead>\n",
       "  <tbody>\n",
       "    <tr>\n",
       "      <th>0</th>\n",
       "      <td>0.0</td>\n",
       "      <td>0.0</td>\n",
       "      <td>0.0</td>\n",
       "      <td>0.0</td>\n",
       "      <td>0.0</td>\n",
       "      <td>0.0</td>\n",
       "      <td>0.0</td>\n",
       "      <td>0.0</td>\n",
       "      <td>0.0</td>\n",
       "      <td>0.0</td>\n",
       "      <td>0.0</td>\n",
       "    </tr>\n",
       "    <tr>\n",
       "      <th>1</th>\n",
       "      <td>0.0</td>\n",
       "      <td>252.0</td>\n",
       "      <td>0.0</td>\n",
       "      <td>0.0</td>\n",
       "      <td>1.0</td>\n",
       "      <td>0.0</td>\n",
       "      <td>2.0</td>\n",
       "      <td>1.0</td>\n",
       "      <td>1.0</td>\n",
       "      <td>0.0</td>\n",
       "      <td>0.0</td>\n",
       "    </tr>\n",
       "    <tr>\n",
       "      <th>2</th>\n",
       "      <td>0.0</td>\n",
       "      <td>4.0</td>\n",
       "      <td>199.0</td>\n",
       "      <td>1.0</td>\n",
       "      <td>9.0</td>\n",
       "      <td>0.0</td>\n",
       "      <td>17.0</td>\n",
       "      <td>4.0</td>\n",
       "      <td>10.0</td>\n",
       "      <td>1.0</td>\n",
       "      <td>4.0</td>\n",
       "    </tr>\n",
       "    <tr>\n",
       "      <th>3</th>\n",
       "      <td>0.0</td>\n",
       "      <td>6.0</td>\n",
       "      <td>10.0</td>\n",
       "      <td>173.0</td>\n",
       "      <td>1.0</td>\n",
       "      <td>9.0</td>\n",
       "      <td>3.0</td>\n",
       "      <td>8.0</td>\n",
       "      <td>9.0</td>\n",
       "      <td>3.0</td>\n",
       "      <td>5.0</td>\n",
       "    </tr>\n",
       "    <tr>\n",
       "      <th>4</th>\n",
       "      <td>0.0</td>\n",
       "      <td>3.0</td>\n",
       "      <td>3.0</td>\n",
       "      <td>0.0</td>\n",
       "      <td>236.0</td>\n",
       "      <td>0.0</td>\n",
       "      <td>4.0</td>\n",
       "      <td>0.0</td>\n",
       "      <td>0.0</td>\n",
       "      <td>9.0</td>\n",
       "      <td>0.0</td>\n",
       "    </tr>\n",
       "    <tr>\n",
       "      <th>5</th>\n",
       "      <td>0.0</td>\n",
       "      <td>4.0</td>\n",
       "      <td>2.0</td>\n",
       "      <td>9.0</td>\n",
       "      <td>20.0</td>\n",
       "      <td>187.0</td>\n",
       "      <td>11.0</td>\n",
       "      <td>0.0</td>\n",
       "      <td>4.0</td>\n",
       "      <td>0.0</td>\n",
       "      <td>9.0</td>\n",
       "    </tr>\n",
       "    <tr>\n",
       "      <th>6</th>\n",
       "      <td>0.0</td>\n",
       "      <td>0.0</td>\n",
       "      <td>0.0</td>\n",
       "      <td>0.0</td>\n",
       "      <td>4.0</td>\n",
       "      <td>2.0</td>\n",
       "      <td>218.0</td>\n",
       "      <td>0.0</td>\n",
       "      <td>0.0</td>\n",
       "      <td>0.0</td>\n",
       "      <td>1.0</td>\n",
       "    </tr>\n",
       "    <tr>\n",
       "      <th>7</th>\n",
       "      <td>0.0</td>\n",
       "      <td>9.0</td>\n",
       "      <td>1.0</td>\n",
       "      <td>0.0</td>\n",
       "      <td>13.0</td>\n",
       "      <td>1.0</td>\n",
       "      <td>0.0</td>\n",
       "      <td>203.0</td>\n",
       "      <td>1.0</td>\n",
       "      <td>4.0</td>\n",
       "      <td>0.0</td>\n",
       "    </tr>\n",
       "    <tr>\n",
       "      <th>8</th>\n",
       "      <td>0.0</td>\n",
       "      <td>4.0</td>\n",
       "      <td>3.0</td>\n",
       "      <td>1.0</td>\n",
       "      <td>7.0</td>\n",
       "      <td>11.0</td>\n",
       "      <td>6.0</td>\n",
       "      <td>0.0</td>\n",
       "      <td>196.0</td>\n",
       "      <td>8.0</td>\n",
       "      <td>0.0</td>\n",
       "    </tr>\n",
       "    <tr>\n",
       "      <th>9</th>\n",
       "      <td>0.0</td>\n",
       "      <td>3.0</td>\n",
       "      <td>1.0</td>\n",
       "      <td>2.0</td>\n",
       "      <td>56.0</td>\n",
       "      <td>4.0</td>\n",
       "      <td>1.0</td>\n",
       "      <td>4.0</td>\n",
       "      <td>1.0</td>\n",
       "      <td>166.0</td>\n",
       "      <td>5.0</td>\n",
       "    </tr>\n",
       "    <tr>\n",
       "      <th>10</th>\n",
       "      <td>0.0</td>\n",
       "      <td>0.0</td>\n",
       "      <td>1.0</td>\n",
       "      <td>1.0</td>\n",
       "      <td>1.0</td>\n",
       "      <td>0.0</td>\n",
       "      <td>9.0</td>\n",
       "      <td>1.0</td>\n",
       "      <td>0.0</td>\n",
       "      <td>0.0</td>\n",
       "      <td>217.0</td>\n",
       "    </tr>\n",
       "  </tbody>\n",
       "</table>\n",
       "</div>"
      ],
      "text/plain": [
       "     0      1      2      3      4      5      6      7      8      9      10\n",
       "0   0.0    0.0    0.0    0.0    0.0    0.0    0.0    0.0    0.0    0.0    0.0\n",
       "1   0.0  252.0    0.0    0.0    1.0    0.0    2.0    1.0    1.0    0.0    0.0\n",
       "2   0.0    4.0  199.0    1.0    9.0    0.0   17.0    4.0   10.0    1.0    4.0\n",
       "3   0.0    6.0   10.0  173.0    1.0    9.0    3.0    8.0    9.0    3.0    5.0\n",
       "4   0.0    3.0    3.0    0.0  236.0    0.0    4.0    0.0    0.0    9.0    0.0\n",
       "5   0.0    4.0    2.0    9.0   20.0  187.0   11.0    0.0    4.0    0.0    9.0\n",
       "6   0.0    0.0    0.0    0.0    4.0    2.0  218.0    0.0    0.0    0.0    1.0\n",
       "7   0.0    9.0    1.0    0.0   13.0    1.0    0.0  203.0    1.0    4.0    0.0\n",
       "8   0.0    4.0    3.0    1.0    7.0   11.0    6.0    0.0  196.0    8.0    0.0\n",
       "9   0.0    3.0    1.0    2.0   56.0    4.0    1.0    4.0    1.0  166.0    5.0\n",
       "10  0.0    0.0    1.0    1.0    1.0    0.0    9.0    1.0    0.0    0.0  217.0"
      ]
     },
     "metadata": {},
     "output_type": "display_data"
    },
    {
     "data": {
      "text/html": [
       "<div>\n",
       "<style scoped>\n",
       "    .dataframe tbody tr th:only-of-type {\n",
       "        vertical-align: middle;\n",
       "    }\n",
       "\n",
       "    .dataframe tbody tr th {\n",
       "        vertical-align: top;\n",
       "    }\n",
       "\n",
       "    .dataframe thead th {\n",
       "        text-align: right;\n",
       "    }\n",
       "</style>\n",
       "<table border=\"1\" class=\"dataframe\">\n",
       "  <thead>\n",
       "    <tr style=\"text-align: right;\">\n",
       "      <th></th>\n",
       "      <th>ds_volume</th>\n",
       "      <th>threshold</th>\n",
       "      <th>layers</th>\n",
       "      <th>nodes_per_layer</th>\n",
       "      <th>alpha</th>\n",
       "      <th>lambda_t</th>\n",
       "      <th>steps</th>\n",
       "      <th>accuracy</th>\n",
       "      <th>cost_ts</th>\n",
       "      <th>cost_vd</th>\n",
       "    </tr>\n",
       "  </thead>\n",
       "  <tbody>\n",
       "    <tr>\n",
       "      <th>1</th>\n",
       "      <td>0.96</td>\n",
       "      <td>0.5</td>\n",
       "      <td>3.0</td>\n",
       "      <td>14.0</td>\n",
       "      <td>2.0</td>\n",
       "      <td>0.01</td>\n",
       "      <td>200.0</td>\n",
       "      <td>85.291667</td>\n",
       "      <td>1.439154</td>\n",
       "      <td>3.993040</td>\n",
       "    </tr>\n",
       "    <tr>\n",
       "      <th>0</th>\n",
       "      <td>0.96</td>\n",
       "      <td>0.5</td>\n",
       "      <td>3.0</td>\n",
       "      <td>14.0</td>\n",
       "      <td>2.0</td>\n",
       "      <td>0.01</td>\n",
       "      <td>200.0</td>\n",
       "      <td>87.291667</td>\n",
       "      <td>1.352637</td>\n",
       "      <td>5.142405</td>\n",
       "    </tr>\n",
       "  </tbody>\n",
       "</table>\n",
       "</div>"
      ],
      "text/plain": [
       "   ds_volume  threshold  layers  nodes_per_layer  alpha  lambda_t  steps  \\\n",
       "1       0.96        0.5     3.0             14.0    2.0      0.01  200.0   \n",
       "0       0.96        0.5     3.0             14.0    2.0      0.01  200.0   \n",
       "\n",
       "    accuracy   cost_ts   cost_vd  \n",
       "1  85.291667  1.439154  3.993040  \n",
       "0  87.291667  1.352637  5.142405  "
      ]
     },
     "metadata": {},
     "output_type": "display_data"
    }
   ],
   "source": [
    "test_i = all_x[vd]\n",
    "test_o = all_y[vd]\n",
    "test_o = to_multiclass(test_o, (test_o.shape[0], theta[-1].shape[1]))\n",
    "\n",
    "guesses = np.zeros((test_o.shape[1]+1, test_o.shape[1]+1))\n",
    "\n",
    "hipothesis = front_propagation(test_i, theta)[-1]\n",
    "for i in range(hipothesis.shape[0]):\n",
    "    #print np.argmax(test_o[i])+1, np.argmax(hipothesis[i])+1\n",
    "    guesses[np.argmax(test_o[i])+1, np.argmax(hipothesis[i])+1] += 1\n",
    "\n",
    "accuracy = guesses.trace()/np.sum(guesses)*100\n",
    "print \"Accuracy: {:2.2f}%\".format(accuracy)\n",
    "print \"Cost dataset   : {:.2f}\".format(cost_ts)\n",
    "cost_vd = cost(hipothesis, test_o, theta, lambda_t)\n",
    "print \"Cost validation: {:.2f}\".format(cost_vd)\n",
    "\n",
    "display(pd.DataFrame(guesses))\n",
    "\n",
    "# saving\n",
    "hyperp = hyperp.append({\n",
    "    'ds_volume':ds_volume,\n",
    "    'threshold':threshold,\n",
    "    'layers': len(dimensions),\n",
    "    'nodes_per_layer': dimensions[1],\n",
    "    'alpha': alpha,\n",
    "    'lambda_t': lambda_t,\n",
    "    'steps': steps,\n",
    "    'accuracy': accuracy,\n",
    "    'cost_ts': cost_ts,\n",
    "    'cost_vd': cost_vd\n",
    "}, ignore_index=True)\n",
    "display(hyperp.sort_values(by='cost_vd', ascending=True))\n"
   ]
  },
  {
   "cell_type": "code",
   "execution_count": 590,
   "metadata": {},
   "outputs": [
    {
     "data": {
      "text/plain": [
       "<matplotlib.axes._subplots.AxesSubplot at 0x7fb24ff03850>"
      ]
     },
     "execution_count": 590,
     "metadata": {},
     "output_type": "execute_result"
    },
    {
     "data": {
      "image/png": "[encoded data removed]",
      "text/plain": [
       "<matplotlib.figure.Figure at 0x7fb245fdec10>"
      ]
     },
     "metadata": {},
     "output_type": "display_data"
    }
   ],
   "source": [
    "hyperp.plot(x='cost_vd', y='accuracy', style='o')"
   ]
  },
  {
   "cell_type": "markdown",
   "metadata": {},
   "source": [
    "## Draft"
   ]
  },
  {
   "cell_type": "code",
   "execution_count": 136,
   "metadata": {},
   "outputs": [
    {
     "data": {
      "text/plain": [
       "array([4, 6])"
      ]
     },
     "execution_count": 136,
     "metadata": {},
     "output_type": "execute_result"
    }
   ],
   "source": [
    "np.sum(np.array([[1, 2],[3, 4]]), axis=0)"
   ]
  },
  {
   "cell_type": "code",
   "execution_count": 153,
   "metadata": {},
   "outputs": [
    {
     "data": {
      "text/plain": [
       "array([[2],\n",
       "       [4]])"
      ]
     },
     "execution_count": 153,
     "metadata": {},
     "output_type": "execute_result"
    }
   ],
   "source": [
    "a = np.array([[1, 2], [3, 4]])\n",
    "np.delete(a, 0, 1)"
   ]
  },
  {
   "cell_type": "code",
   "execution_count": 25,
   "metadata": {},
   "outputs": [
    {
     "data": {
      "text/plain": [
       "(15, 10)"
      ]
     },
     "execution_count": 25,
     "metadata": {},
     "output_type": "execute_result"
    }
   ],
   "source": [
    "theta[1].shape"
   ]
  },
  {
   "cell_type": "code",
   "execution_count": 121,
   "metadata": {},
   "outputs": [
    {
     "ename": "SyntaxError",
     "evalue": "invalid syntax (<ipython-input-121-bc2efdad1daf>, line 5)",
     "output_type": "error",
     "traceback": [
      "\u001b[0;36m  File \u001b[0;32m\"<ipython-input-121-bc2efdad1daf>\"\u001b[0;36m, line \u001b[0;32m5\u001b[0m\n\u001b[0;31m    k[1] = k[1][1:]\u001b[0m\n\u001b[0m    ^\u001b[0m\n\u001b[0;31mSyntaxError\u001b[0m\u001b[0;31m:\u001b[0m invalid syntax\n"
     ]
    }
   ],
   "source": [
    "k = []\n",
    "k.append(np.dot([1, 0, 0, 0, 0, 0, 0, 0, 0, 1], theta[1].T))\n",
    "k[0] = k[0][1:]\n",
    "k.append(np.dot(k[0], theta[0].T))\n",
    "k[1] = k[1][1:]\n",
    "plt.imshow(k[1].reshape(20, 20).T, cmap=\"gray\")"
   ]
  },
  {
   "cell_type": "code",
   "execution_count": null,
   "metadata": {},
   "outputs": [],
   "source": []
  }
 ],
 "metadata": {
  "kernelspec": {
   "display_name": "Python 2",
   "language": "python",
   "name": "python2"
  },
  "language_info": {
   "codemirror_mode": {
    "name": "ipython",
    "version": 2
   },
   "file_extension": ".py",
   "mimetype": "text/x-python",
   "name": "python",
   "nbconvert_exporter": "python",
   "pygments_lexer": "ipython2",
   "version": "2.7.12"
  }
 },
 "nbformat": 4,
 "nbformat_minor": 2
}
